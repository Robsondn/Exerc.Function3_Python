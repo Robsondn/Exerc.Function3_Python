{
 "cells": [
  {
   "cell_type": "code",
   "execution_count": 2,
   "id": "1ee9d01c-440d-4095-9506-4f558120c479",
   "metadata": {},
   "outputs": [],
   "source": [
    "#Exercícios 3 \n",
    "\n",
    "#Cálculo do Percentual e da Lista de Vendedores\n",
    "\n",
    "#Criar uma function que consiga identificar os vendedores que bateram uma meta, mas além disso, consigo já me dar como resposta o cálculo do % da lista de vendedores que bateu a meta (para eu não precisar calcular manualmente depois)\n",
    "\n",
    "#Essa function deve receber 2 informações como parâmetro: a meta e um dicionário com os vendedores e suas vendas. E me dar 2 respostas: uma lista com o nome dos vendedores que bateram a meta e o % de vendedores que bateu a meta.\n",
    "\n",
    "meta = 10000\n",
    "vendas = {\n",
    "    'Robson': 15000,\n",
    "    'Julia': 27000,\n",
    "    'Joaquim': 9900,\n",
    "    'Maria': 3750,\n",
    "    'Sol': 10300,\n",
    "    'Ale': 7870,\n",
    "}"
   ]
  },
  {
   "cell_type": "code",
   "execution_count": 4,
   "id": "0c1ba5cc-802f-4062-a3d8-409ca4184e89",
   "metadata": {},
   "outputs": [],
   "source": [
    "#crie sua function aqui\n",
    "def calculo_meta(meta, vendas):\n",
    "    bateram_meta = []\n",
    "    for vendedor in vendas:\n",
    "        if vendas[vendedor] >= meta:\n",
    "            bateram_meta.append(vendedor)\n",
    "    perc_baterammeta = len(bateram_meta) / len(vendas)\n",
    "    return perc_baterammeta, bateram_meta"
   ]
  },
  {
   "cell_type": "code",
   "execution_count": null,
   "id": "163ae6be-01d8-47e4-a2a1-e9d931e59c64",
   "metadata": {},
   "outputs": [],
   "source": []
  }
 ],
 "metadata": {
  "kernelspec": {
   "display_name": "Python 3 (ipykernel)",
   "language": "python",
   "name": "python3"
  },
  "language_info": {
   "codemirror_mode": {
    "name": "ipython",
    "version": 3
   },
   "file_extension": ".py",
   "mimetype": "text/x-python",
   "name": "python",
   "nbconvert_exporter": "python",
   "pygments_lexer": "ipython3",
   "version": "3.12.4"
  }
 },
 "nbformat": 4,
 "nbformat_minor": 5
}
